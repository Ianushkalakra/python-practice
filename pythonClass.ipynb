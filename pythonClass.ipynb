{
  "nbformat": 4,
  "nbformat_minor": 0,
  "metadata": {
    "colab": {
      "provenance": [],
      "include_colab_link": true
    },
    "kernelspec": {
      "name": "python3",
      "display_name": "Python 3"
    },
    "language_info": {
      "name": "python"
    }
  },
  "cells": [
    {
      "cell_type": "markdown",
      "metadata": {
        "id": "view-in-github",
        "colab_type": "text"
      },
      "source": [
        "<a href=\"https://colab.research.google.com/github/Ianushkalakra/python-practice/blob/main/pythonClass.ipynb\" target=\"_parent\"><img src=\"https://colab.research.google.com/assets/colab-badge.svg\" alt=\"Open In Colab\"/></a>"
      ]
    },
    {
      "cell_type": "markdown",
      "source": [
        "1. Create web applications\n",
        "\n",
        "2. It can be used to connect with the database.\n",
        "\n",
        "3. Used to develop games.\n",
        "\n",
        "4. web development(Server Side).\n",
        "\n",
        "**Variable**\n",
        "\n",
        "Variable is like a container that is used to store items in it.\n",
        "\n",
        "**Rules for Naming a variable**\n",
        "\n",
        "1. A variable must start with a letter or an underscore.\n",
        "\n",
        "2. It shouldn't be start with a number.\n",
        "\n",
        "3. Variable names are case sensitive.\n",
        "\n",
        "5. It can contain alpha numeric number. (a-Z,0-9 and _)\n",
        "\n",
        "6. Python keywords can't be used a variable."
      ],
      "metadata": {
        "id": "8lF1VFmd-gSB"
      }
    },
    {
      "cell_type": "code",
      "source": [
        "fruit = 'apple'\n"
      ],
      "metadata": {
        "id": "HQiGhlqAAYb-"
      },
      "execution_count": null,
      "outputs": []
    },
    {
      "cell_type": "code",
      "source": [
        "_fruit = 'apple'"
      ],
      "metadata": {
        "id": "EYYPU2KIAi1l"
      },
      "execution_count": null,
      "outputs": []
    },
    {
      "cell_type": "code",
      "source": [
        "9fruit = 'apple'"
      ],
      "metadata": {
        "colab": {
          "base_uri": "https://localhost:8080/",
          "height": 106
        },
        "id": "7vxVRj-FAwrt",
        "outputId": "b8020ad0-f016-4362-d3b1-8ed0aec70ab8"
      },
      "execution_count": null,
      "outputs": [
        {
          "output_type": "error",
          "ename": "SyntaxError",
          "evalue": "invalid decimal literal (<ipython-input-3-a8ae7a8e4d22>, line 1)",
          "traceback": [
            "\u001b[0;36m  File \u001b[0;32m\"<ipython-input-3-a8ae7a8e4d22>\"\u001b[0;36m, line \u001b[0;32m1\u001b[0m\n\u001b[0;31m    9fruit = 'apple'\u001b[0m\n\u001b[0m    ^\u001b[0m\n\u001b[0;31mSyntaxError\u001b[0m\u001b[0;31m:\u001b[0m invalid decimal literal\n"
          ]
        }
      ]
    },
    {
      "cell_type": "code",
      "source": [
        "FRUIT = 'apple'\n",
        "fruit = 'banana'\n",
        "Fruit = 'Orange'"
      ],
      "metadata": {
        "id": "lPVBgsLlBWev"
      },
      "execution_count": null,
      "outputs": []
    },
    {
      "cell_type": "code",
      "source": [
        "Fruit9 = 'apple'"
      ],
      "metadata": {
        "id": "X17xoYH1Bw3K"
      },
      "execution_count": null,
      "outputs": []
    },
    {
      "cell_type": "markdown",
      "source": [
        "**Data Types**\n",
        "\n",
        "Text Type : str type(String) \"\"''\n",
        "\n",
        "Numeric Type : int, float, complex(6+7i)\n",
        "\n",
        "Sequence Type : list, tuple,range\n",
        "\n",
        "Mapping Type : dict\n",
        "\n",
        "Set Type : set, frozenset\n",
        "\n",
        "Boolean Type : bool\n",
        "\n",
        "Binary Type : bytes, bytesarray, memoryview\n",
        "\n",
        "None Type : NoneType"
      ],
      "metadata": {
        "id": "CCyJz5IoCNP1"
      }
    },
    {
      "cell_type": "code",
      "source": [
        "animal = 'Dog'\n",
        "print(animal)\n",
        "type(animal)"
      ],
      "metadata": {
        "colab": {
          "base_uri": "https://localhost:8080/"
        },
        "id": "bl4o0GLhB8_X",
        "outputId": "bb56a6f9-3e53-4c88-b3b4-7d7be9d9017a"
      },
      "execution_count": null,
      "outputs": [
        {
          "output_type": "stream",
          "name": "stdout",
          "text": [
            "Dog\n"
          ]
        },
        {
          "output_type": "execute_result",
          "data": {
            "text/plain": [
              "str"
            ]
          },
          "metadata": {},
          "execution_count": 7
        }
      ]
    },
    {
      "cell_type": "code",
      "source": [
        "num = 327382\n",
        "print(num)\n",
        "type(num)"
      ],
      "metadata": {
        "colab": {
          "base_uri": "https://localhost:8080/"
        },
        "id": "upLqeHBDDnU8",
        "outputId": "7323894e-6ae8-4442-f35c-306c3313158e"
      },
      "execution_count": null,
      "outputs": [
        {
          "output_type": "stream",
          "name": "stdout",
          "text": [
            "327382\n"
          ]
        },
        {
          "output_type": "execute_result",
          "data": {
            "text/plain": [
              "int"
            ]
          },
          "metadata": {},
          "execution_count": 8
        }
      ]
    },
    {
      "cell_type": "code",
      "source": [
        "num1 = 373.36\n",
        "print(num1)\n",
        "type(num1)"
      ],
      "metadata": {
        "colab": {
          "base_uri": "https://localhost:8080/"
        },
        "id": "gpSqK_5JD8Bf",
        "outputId": "0bb2a3dd-3b34-4b64-e683-de0897c3ccef"
      },
      "execution_count": null,
      "outputs": [
        {
          "output_type": "stream",
          "name": "stdout",
          "text": [
            "373.36\n"
          ]
        },
        {
          "output_type": "execute_result",
          "data": {
            "text/plain": [
              "float"
            ]
          },
          "metadata": {},
          "execution_count": 9
        }
      ]
    },
    {
      "cell_type": "code",
      "source": [
        "num2 = 7j\n",
        "print(num2)\n",
        "type(num2)"
      ],
      "metadata": {
        "colab": {
          "base_uri": "https://localhost:8080/"
        },
        "id": "BCJI0UcGEFOT",
        "outputId": "af644b7c-85c9-4eaa-bf8f-e51331c65f1d"
      },
      "execution_count": null,
      "outputs": [
        {
          "output_type": "stream",
          "name": "stdout",
          "text": [
            "7j\n"
          ]
        },
        {
          "output_type": "execute_result",
          "data": {
            "text/plain": [
              "complex"
            ]
          },
          "metadata": {},
          "execution_count": 10
        }
      ]
    },
    {
      "cell_type": "code",
      "source": [
        "a = 78\n",
        "b = 43\n",
        "print(a+b)"
      ],
      "metadata": {
        "colab": {
          "base_uri": "https://localhost:8080/"
        },
        "id": "YUQ_NcEhEPu3",
        "outputId": "4dc1cfe9-6ce1-48cd-a54d-a1c9e8056977"
      },
      "execution_count": null,
      "outputs": [
        {
          "output_type": "stream",
          "name": "stdout",
          "text": [
            "121\n"
          ]
        }
      ]
    },
    {
      "cell_type": "code",
      "source": [
        "a = 78\n",
        "b = 43\n",
        "c = a+b\n",
        "print(c)"
      ],
      "metadata": {
        "colab": {
          "base_uri": "https://localhost:8080/"
        },
        "id": "IxA706OcEt8q",
        "outputId": "602e9004-3582-4a47-8d5c-21b2d34320dc"
      },
      "execution_count": null,
      "outputs": [
        {
          "output_type": "stream",
          "name": "stdout",
          "text": [
            "121\n"
          ]
        }
      ]
    },
    {
      "cell_type": "code",
      "source": [
        "a = 78\n",
        "b = 43\n",
        "c = a*b\n",
        "print(c)"
      ],
      "metadata": {
        "colab": {
          "base_uri": "https://localhost:8080/"
        },
        "id": "jjFhytmkE3-6",
        "outputId": "e58e5974-71d1-4bcb-e9b8-15ced74601ac"
      },
      "execution_count": null,
      "outputs": [
        {
          "output_type": "stream",
          "name": "stdout",
          "text": [
            "3354\n"
          ]
        }
      ]
    },
    {
      "cell_type": "code",
      "source": [
        "a = 'John'\n",
        "b = 'Rob'\n",
        "print(a,b)"
      ],
      "metadata": {
        "colab": {
          "base_uri": "https://localhost:8080/"
        },
        "id": "UTwQsfAFFJoz",
        "outputId": "1ca0c059-ee3e-4c3d-9251-8a6f7207d372"
      },
      "execution_count": null,
      "outputs": [
        {
          "output_type": "stream",
          "name": "stdout",
          "text": [
            "John Rob\n"
          ]
        }
      ]
    },
    {
      "cell_type": "markdown",
      "source": [
        "**List**\n",
        "1. It is used  to store multiple items in a single variable.\n",
        "\n",
        "2. It is ordered.\n",
        "\n",
        "3. It allows duplicate values.\n",
        "\n",
        "4. List is denoted by [ ].\n",
        "\n",
        "5. It is mutable."
      ],
      "metadata": {
        "id": "2WCGoOXSHPEQ"
      }
    },
    {
      "cell_type": "code",
      "source": [
        "fruit = [\"apple\",'mango',\"banana\",'orange','apple','orange',23,98.39,8j,True]  #n-1\n",
        "print(fruit)"
      ],
      "metadata": {
        "colab": {
          "base_uri": "https://localhost:8080/"
        },
        "id": "cS_LTWkTFiHx",
        "outputId": "e27bef21-3726-4ff3-92bc-6d75a768e613"
      },
      "execution_count": null,
      "outputs": [
        {
          "output_type": "stream",
          "name": "stdout",
          "text": [
            "['apple', 'mango', 'banana', 'orange', 'apple', 'orange', 23, 98.39, 8j, True]\n"
          ]
        }
      ]
    },
    {
      "cell_type": "code",
      "source": [
        "type(fruit)"
      ],
      "metadata": {
        "colab": {
          "base_uri": "https://localhost:8080/"
        },
        "id": "KoQYrErQHvjr",
        "outputId": "127eb907-3d28-4102-94eb-59641fac2ee4"
      },
      "execution_count": null,
      "outputs": [
        {
          "output_type": "execute_result",
          "data": {
            "text/plain": [
              "list"
            ]
          },
          "metadata": {},
          "execution_count": 26
        }
      ]
    },
    {
      "cell_type": "code",
      "source": [
        "print(fruit[-2])"
      ],
      "metadata": {
        "colab": {
          "base_uri": "https://localhost:8080/"
        },
        "id": "zO5arQrSH8yO",
        "outputId": "78da0fcd-668f-4eb7-fb65-bc4eeef4620d"
      },
      "execution_count": null,
      "outputs": [
        {
          "output_type": "stream",
          "name": "stdout",
          "text": [
            "8j\n"
          ]
        }
      ]
    },
    {
      "cell_type": "code",
      "source": [
        "print(fruit[1:6])"
      ],
      "metadata": {
        "colab": {
          "base_uri": "https://localhost:8080/"
        },
        "id": "jxYu0CoIJF-0",
        "outputId": "4fb23b11-1187-4b8a-b27b-5e54929e97ff"
      },
      "execution_count": null,
      "outputs": [
        {
          "output_type": "stream",
          "name": "stdout",
          "text": [
            "['mango', 'banana', 'orange', 'apple', 'orange']\n"
          ]
        }
      ]
    },
    {
      "cell_type": "code",
      "source": [
        "print(fruit[1:7:2]) #start:stop:step"
      ],
      "metadata": {
        "colab": {
          "base_uri": "https://localhost:8080/"
        },
        "id": "EqNQmW5mJ4Y_",
        "outputId": "f5cef985-707f-48fc-9950-f5b95edb8380"
      },
      "execution_count": null,
      "outputs": [
        {
          "output_type": "stream",
          "name": "stdout",
          "text": [
            "['mango', 'orange', 'orange']\n"
          ]
        }
      ]
    },
    {
      "cell_type": "code",
      "source": [
        "print(fruit[-7:])"
      ],
      "metadata": {
        "colab": {
          "base_uri": "https://localhost:8080/"
        },
        "id": "RVVeqbrxKNcB",
        "outputId": "81a2ee44-e84d-4454-d373-72681b6a4e7a"
      },
      "execution_count": null,
      "outputs": [
        {
          "output_type": "stream",
          "name": "stdout",
          "text": [
            "['orange', 'apple', 'orange', 23, 98.39, 8j, True]\n"
          ]
        }
      ]
    },
    {
      "cell_type": "code",
      "source": [
        "fruit = [\"apple\",'mango',\"banana\",'orange','apple','orange',23,98.39,8j,True]  #n-1\n",
        "print(fruit)"
      ],
      "metadata": {
        "colab": {
          "base_uri": "https://localhost:8080/"
        },
        "id": "iKEuNodrLMjP",
        "outputId": "01f394e6-1a3b-4b54-fa3a-a2305b93dc64"
      },
      "execution_count": null,
      "outputs": [
        {
          "output_type": "stream",
          "name": "stdout",
          "text": [
            "['apple', 'mango', 'banana', 'orange', 'apple', 'orange', 23, 98.39, 8j, True]\n"
          ]
        }
      ]
    },
    {
      "cell_type": "code",
      "source": [
        "fruit[2] = 'kiwi'\n",
        "print(fruit)"
      ],
      "metadata": {
        "colab": {
          "base_uri": "https://localhost:8080/",
          "height": 159
        },
        "id": "VMjvPnYbLtia",
        "outputId": "5cfe3087-471f-432a-aed5-5737d541c87a"
      },
      "execution_count": null,
      "outputs": [
        {
          "output_type": "error",
          "ename": "NameError",
          "evalue": "name 'fruit' is not defined",
          "traceback": [
            "\u001b[0;31m---------------------------------------------------------------------------\u001b[0m",
            "\u001b[0;31mNameError\u001b[0m                                 Traceback (most recent call last)",
            "\u001b[0;32m<ipython-input-15-93e38f4da169>\u001b[0m in \u001b[0;36m<cell line: 1>\u001b[0;34m()\u001b[0m\n\u001b[0;32m----> 1\u001b[0;31m \u001b[0mfruit\u001b[0m\u001b[0;34m[\u001b[0m\u001b[0;36m2\u001b[0m\u001b[0;34m]\u001b[0m \u001b[0;34m=\u001b[0m \u001b[0;34m'kiwi'\u001b[0m\u001b[0;34m\u001b[0m\u001b[0;34m\u001b[0m\u001b[0m\n\u001b[0m\u001b[1;32m      2\u001b[0m \u001b[0mprint\u001b[0m\u001b[0;34m(\u001b[0m\u001b[0mfruit\u001b[0m\u001b[0;34m)\u001b[0m\u001b[0;34m\u001b[0m\u001b[0;34m\u001b[0m\u001b[0m\n",
            "\u001b[0;31mNameError\u001b[0m: name 'fruit' is not defined"
          ]
        }
      ]
    },
    {
      "cell_type": "code",
      "source": [
        "fruit.insert(5,'peach')\n",
        "print(fruit)"
      ],
      "metadata": {
        "colab": {
          "base_uri": "https://localhost:8080/"
        },
        "id": "DLHx9ljiL0YV",
        "outputId": "fd036782-f876-403d-a2ca-1412de3eb496"
      },
      "execution_count": null,
      "outputs": [
        {
          "output_type": "stream",
          "name": "stdout",
          "text": [
            "['apple', 'mango', 'kiwi', 'orange', 'apple', 'peach', 'orange', 23, 98.39, 8j, True]\n"
          ]
        }
      ]
    },
    {
      "cell_type": "code",
      "source": [
        "fruit.append('guava')\n",
        "print(fruit)"
      ],
      "metadata": {
        "colab": {
          "base_uri": "https://localhost:8080/"
        },
        "id": "X_O4cjcoMFoK",
        "outputId": "5371700c-870f-4abd-a772-978313375784"
      },
      "execution_count": null,
      "outputs": [
        {
          "output_type": "stream",
          "name": "stdout",
          "text": [
            "['apple', 'mango', 'kiwi', 'orange', 'apple', 'peach', 'orange', 23, 98.39, 8j, True, 'guava', 'guava', 'guava']\n"
          ]
        }
      ]
    },
    {
      "cell_type": "code",
      "source": [
        "fruit.pop()\n",
        "print(fruit)"
      ],
      "metadata": {
        "colab": {
          "base_uri": "https://localhost:8080/"
        },
        "id": "6xvVteWMMQZR",
        "outputId": "63c44050-2872-4f11-efe7-a623814fa71d"
      },
      "execution_count": null,
      "outputs": [
        {
          "output_type": "stream",
          "name": "stdout",
          "text": [
            "['apple', 'mango', 'kiwi', 'orange', 'apple', 'peach', 'orange', 23, 98.39, 8j, True, 'guava', 'guava']\n"
          ]
        }
      ]
    },
    {
      "cell_type": "code",
      "source": [
        "fruit.pop(2)\n",
        "print(fruit)"
      ],
      "metadata": {
        "colab": {
          "base_uri": "https://localhost:8080/"
        },
        "id": "WMw-LbecM0U9",
        "outputId": "1bca4700-bb22-4c30-cba0-cb643c2d0870"
      },
      "execution_count": null,
      "outputs": [
        {
          "output_type": "stream",
          "name": "stdout",
          "text": [
            "['apple', 'mango', 'orange', 'apple', 'peach', 'orange', 23, 98.39, 8j, True, 'guava', 'guava']\n"
          ]
        }
      ]
    },
    {
      "cell_type": "code",
      "source": [
        "fruit.remove(\"apple\")\n",
        "print(fruit)"
      ],
      "metadata": {
        "colab": {
          "base_uri": "https://localhost:8080/"
        },
        "id": "nmyXcR7NM7vp",
        "outputId": "90aa40f0-f7a6-4ceb-d878-58dcc4e21a32"
      },
      "execution_count": null,
      "outputs": [
        {
          "output_type": "stream",
          "name": "stdout",
          "text": [
            "['mango', 'orange', 'peach', 'orange', 23, 98.39, 8j, True, 'guava', 'guava']\n"
          ]
        }
      ]
    },
    {
      "cell_type": "code",
      "source": [
        "fruit.clear()\n",
        "print(fruit)"
      ],
      "metadata": {
        "colab": {
          "base_uri": "https://localhost:8080/"
        },
        "id": "s-UcDRtVNXY7",
        "outputId": "907cafb5-9ae9-4f02-e480-deb1ff6d8bf3"
      },
      "execution_count": null,
      "outputs": [
        {
          "output_type": "stream",
          "name": "stdout",
          "text": [
            "[]\n"
          ]
        }
      ]
    },
    {
      "cell_type": "code",
      "source": [
        "del fruit"
      ],
      "metadata": {
        "id": "vXfz7_XnN6Eq"
      },
      "execution_count": null,
      "outputs": []
    },
    {
      "cell_type": "code",
      "source": [
        "print(fruit)"
      ],
      "metadata": {
        "colab": {
          "base_uri": "https://localhost:8080/",
          "height": 141
        },
        "id": "aLzcWY0hN_nx",
        "outputId": "b26dcf9d-318c-4c08-93de-0d851462269f"
      },
      "execution_count": null,
      "outputs": [
        {
          "output_type": "error",
          "ename": "NameError",
          "evalue": "name 'fruit' is not defined",
          "traceback": [
            "\u001b[0;31m---------------------------------------------------------------------------\u001b[0m",
            "\u001b[0;31mNameError\u001b[0m                                 Traceback (most recent call last)",
            "\u001b[0;32m<ipython-input-14-ed1ec1e342e2>\u001b[0m in \u001b[0;36m<cell line: 1>\u001b[0;34m()\u001b[0m\n\u001b[0;32m----> 1\u001b[0;31m \u001b[0mprint\u001b[0m\u001b[0;34m(\u001b[0m\u001b[0mfruit\u001b[0m\u001b[0;34m)\u001b[0m\u001b[0;34m\u001b[0m\u001b[0;34m\u001b[0m\u001b[0m\n\u001b[0m",
            "\u001b[0;31mNameError\u001b[0m: name 'fruit' is not defined"
          ]
        }
      ]
    },
    {
      "cell_type": "markdown",
      "source": [
        "**Tuple**\n",
        "\n",
        "1. It is used to store multiple  items in a single variable.\n",
        "\n",
        "2. It is  ordered.\n",
        "\n",
        "3. It is immutable(Unchangeable).\n",
        "\n",
        "4.  It is enclosed with the ( ).\n",
        "\n",
        "5. It allows duplicate values."
      ],
      "metadata": {
        "id": "l6Ya9FeECYD-"
      }
    },
    {
      "cell_type": "code",
      "source": [
        "animal = (\"Dog\",\"Cow\",\"Cat\",21,74j,98.377,True,\"87\")\n",
        "print(animal)\n",
        "type(animal)"
      ],
      "metadata": {
        "id": "tBNgHko0OBmI",
        "colab": {
          "base_uri": "https://localhost:8080/"
        },
        "outputId": "f144486e-d02c-44f1-eb90-266f3a547859"
      },
      "execution_count": null,
      "outputs": [
        {
          "output_type": "stream",
          "name": "stdout",
          "text": [
            "('Dog', 'Cow', 'Cat', 21, 74j, 98.377, True, '87')\n"
          ]
        },
        {
          "output_type": "execute_result",
          "data": {
            "text/plain": [
              "tuple"
            ]
          },
          "metadata": {},
          "execution_count": 1
        }
      ]
    },
    {
      "cell_type": "code",
      "source": [
        "print(animal[4])"
      ],
      "metadata": {
        "colab": {
          "base_uri": "https://localhost:8080/"
        },
        "id": "5_8kmu3MDsvd",
        "outputId": "7da5c648-109e-423b-ea35-0543655e464b"
      },
      "execution_count": null,
      "outputs": [
        {
          "output_type": "stream",
          "name": "stdout",
          "text": [
            "74j\n"
          ]
        }
      ]
    },
    {
      "cell_type": "code",
      "source": [
        "print(animal[-6])"
      ],
      "metadata": {
        "colab": {
          "base_uri": "https://localhost:8080/"
        },
        "id": "xPN_uw_OD-_M",
        "outputId": "43f17152-ee5f-4bc2-be49-93a4d3696257"
      },
      "execution_count": null,
      "outputs": [
        {
          "output_type": "stream",
          "name": "stdout",
          "text": [
            "Cat\n"
          ]
        }
      ]
    },
    {
      "cell_type": "code",
      "source": [
        "print(animal[0:6])"
      ],
      "metadata": {
        "colab": {
          "base_uri": "https://localhost:8080/"
        },
        "id": "7fHOjxVcEena",
        "outputId": "9778c90d-6ce9-4b2f-e3b4-81b0f3c59fad"
      },
      "execution_count": null,
      "outputs": [
        {
          "output_type": "stream",
          "name": "stdout",
          "text": [
            "('Dog', 'Cow', 'Cat', 21, 74j, 98.377)\n"
          ]
        }
      ]
    },
    {
      "cell_type": "code",
      "source": [
        "print(animal[-7:])"
      ],
      "metadata": {
        "colab": {
          "base_uri": "https://localhost:8080/"
        },
        "id": "jozJ4Sh1EyWb",
        "outputId": "5d1b11b0-9d73-44a8-c76a-12007cb0b76f"
      },
      "execution_count": null,
      "outputs": [
        {
          "output_type": "stream",
          "name": "stdout",
          "text": [
            "('Cow', 'Cat', 21, 74j, 98.377, True, '87')\n"
          ]
        }
      ]
    },
    {
      "cell_type": "code",
      "source": [
        "animal = (\"Dog\",\"Cow\",\"Cat\",21,74j,98.377,True,\"87\")\n",
        "var = list(animal)\n",
        "var[2] = 'mouse'\n",
        "animal = tuple(var)\n",
        "print(animal)"
      ],
      "metadata": {
        "colab": {
          "base_uri": "https://localhost:8080/"
        },
        "id": "eUKQjClaFQsQ",
        "outputId": "07b4c97c-f9f6-4359-8041-2cea51e1dbc4"
      },
      "execution_count": null,
      "outputs": [
        {
          "output_type": "stream",
          "name": "stdout",
          "text": [
            "('Dog', 'Cow', 'mouse', 21, 74j, 98.377, True, '87')\n"
          ]
        }
      ]
    },
    {
      "cell_type": "code",
      "source": [
        "animal = (\"Dog\",\"Cow\",\"Cat\",21,74j,98.377,True,\"87\")\n",
        "var = list(animal)\n",
        "var.insert(3,\"apple\")\n",
        "animal = tuple(var)\n",
        "print(animal)"
      ],
      "metadata": {
        "colab": {
          "base_uri": "https://localhost:8080/"
        },
        "id": "o8tFEtu3HJax",
        "outputId": "f741468f-7c23-4a5f-d9bb-10146b6632a5"
      },
      "execution_count": null,
      "outputs": [
        {
          "output_type": "stream",
          "name": "stdout",
          "text": [
            "('Dog', 'Cow', 'Cat', 'apple', 21, 74j, 98.377, True, '87')\n"
          ]
        }
      ]
    },
    {
      "cell_type": "code",
      "source": [
        "animal = (\"Dog\",\"Cow\",\"Cat\",21,74j,98.377,True,\"87\")\n",
        "var = list(animal)\n",
        "var.append(\"Goat\")\n",
        "animal = tuple(var)\n",
        "print(animal)"
      ],
      "metadata": {
        "colab": {
          "base_uri": "https://localhost:8080/"
        },
        "id": "QUEyCK2RJAD9",
        "outputId": "cd1a3d9f-8aca-4643-c064-39c4a2a167a6"
      },
      "execution_count": null,
      "outputs": [
        {
          "output_type": "stream",
          "name": "stdout",
          "text": [
            "('Dog', 'Cow', 'Cat', 21, 74j, 98.377, True, '87', 'Goat')\n"
          ]
        }
      ]
    },
    {
      "cell_type": "code",
      "source": [
        "animal = (\"Dog\",\"Cow\",\"Cat\",21,74j,98.377,True,\"87\")\n",
        "var = list(animal)\n",
        "var.remove(98.377)\n",
        "animal = tuple(var)\n",
        "print(animal)\n",
        "\n",
        "#Use pop ,clear and del method"
      ],
      "metadata": {
        "colab": {
          "base_uri": "https://localhost:8080/"
        },
        "id": "WrvIg5HZJrCJ",
        "outputId": "195eeafd-810f-47d4-c689-21ce1b36b7cd"
      },
      "execution_count": null,
      "outputs": [
        {
          "output_type": "stream",
          "name": "stdout",
          "text": [
            "('Dog', 'Cow', 'Cat', 21, 74j, True, '87')\n"
          ]
        }
      ]
    },
    {
      "cell_type": "markdown",
      "source": [
        "**Sets**\n",
        "\n",
        "1. It is used to store multiple items in a single variable.\n",
        "\n",
        "2. It is unindexed(unordered).\n",
        "\n",
        "3. It doesn't allow duplicate values.\n",
        "\n",
        "4. It is denoted by {}.\n",
        "\n",
        "5. It is immutable*."
      ],
      "metadata": {
        "id": "_0uKX0_dLCo0"
      }
    },
    {
      "cell_type": "code",
      "source": [
        "num = {\"mango\",'guava',\"Dog\",38,90.32,99j,True,False,\"mango\"}\n",
        "print(num)\n",
        "type(num)"
      ],
      "metadata": {
        "colab": {
          "base_uri": "https://localhost:8080/"
        },
        "id": "eO1OsZGiKbDo",
        "outputId": "18845dcb-cadc-483b-9add-73a1b1302fa6"
      },
      "execution_count": null,
      "outputs": [
        {
          "output_type": "stream",
          "name": "stdout",
          "text": [
            "{False, True, 38, 99j, 'mango', 90.32, 'guava', 'Dog'}\n"
          ]
        },
        {
          "output_type": "execute_result",
          "data": {
            "text/plain": [
              "set"
            ]
          },
          "metadata": {},
          "execution_count": 1
        }
      ]
    },
    {
      "cell_type": "code",
      "source": [
        "\n",
        "for var in num:\n",
        "\n",
        "  print(var)"
      ],
      "metadata": {
        "colab": {
          "base_uri": "https://localhost:8080/"
        },
        "id": "1LxJdScHL1l9",
        "outputId": "7b775316-3e7c-48e3-e908-e1cc2fe99179"
      },
      "execution_count": null,
      "outputs": [
        {
          "output_type": "stream",
          "name": "stdout",
          "text": [
            "False\n",
            "True\n",
            "90.32\n",
            "38\n",
            "guava\n",
            "99j\n",
            "Dog\n",
            "mango\n"
          ]
        }
      ]
    },
    {
      "cell_type": "code",
      "source": [
        "num.add(\"Peach\")\n",
        "print(num)"
      ],
      "metadata": {
        "colab": {
          "base_uri": "https://localhost:8080/"
        },
        "id": "5ufQKr4DNQQ7",
        "outputId": "37081a87-016a-411c-f0bb-be1403ec37c4"
      },
      "execution_count": null,
      "outputs": [
        {
          "output_type": "stream",
          "name": "stdout",
          "text": [
            "{False, True, 38, 'Peach', 99j, 'mango', 90.32, 'guava', 'Dog'}\n"
          ]
        }
      ]
    },
    {
      "cell_type": "code",
      "source": [
        "num.remove(\"mango\")\n",
        "print(num)"
      ],
      "metadata": {
        "colab": {
          "base_uri": "https://localhost:8080/",
          "height": 159
        },
        "id": "n4PkCj52QENM",
        "outputId": "e99719a0-6ce3-4790-9f9e-f179296c8a41"
      },
      "execution_count": null,
      "outputs": [
        {
          "output_type": "error",
          "ename": "KeyError",
          "evalue": "'mango'",
          "traceback": [
            "\u001b[0;31m---------------------------------------------------------------------------\u001b[0m",
            "\u001b[0;31mKeyError\u001b[0m                                  Traceback (most recent call last)",
            "\u001b[0;32m<ipython-input-6-a14b9fe8fce2>\u001b[0m in \u001b[0;36m<cell line: 1>\u001b[0;34m()\u001b[0m\n\u001b[0;32m----> 1\u001b[0;31m \u001b[0mnum\u001b[0m\u001b[0;34m.\u001b[0m\u001b[0mremove\u001b[0m\u001b[0;34m(\u001b[0m\u001b[0;34m\"mango\"\u001b[0m\u001b[0;34m)\u001b[0m\u001b[0;34m\u001b[0m\u001b[0;34m\u001b[0m\u001b[0m\n\u001b[0m\u001b[1;32m      2\u001b[0m \u001b[0mprint\u001b[0m\u001b[0;34m(\u001b[0m\u001b[0mnum\u001b[0m\u001b[0;34m)\u001b[0m\u001b[0;34m\u001b[0m\u001b[0;34m\u001b[0m\u001b[0m\n",
            "\u001b[0;31mKeyError\u001b[0m: 'mango'"
          ]
        }
      ]
    },
    {
      "cell_type": "code",
      "source": [
        "num.discard(\"Dog\")\n",
        "print(num)"
      ],
      "metadata": {
        "colab": {
          "base_uri": "https://localhost:8080/"
        },
        "id": "rwKLQZuCQQZC",
        "outputId": "86d1cd1a-7bbc-43f7-9e73-5a329fcd9e05"
      },
      "execution_count": null,
      "outputs": [
        {
          "output_type": "stream",
          "name": "stdout",
          "text": [
            "{False, True, 38, 'Peach', 99j, 90.32, 'guava'}\n"
          ]
        }
      ]
    },
    {
      "cell_type": "code",
      "source": [
        "#Use clear and del method"
      ],
      "metadata": {
        "colab": {
          "base_uri": "https://localhost:8080/"
        },
        "id": "7b3YAB3wQXR9",
        "outputId": "57aa1df9-6563-49f9-f9ed-3993d50ca1f9"
      },
      "execution_count": null,
      "outputs": [
        {
          "output_type": "stream",
          "name": "stdout",
          "text": [
            "{False, True, 38, 'Peach', 99j, 90.32, 'guava'}\n"
          ]
        }
      ]
    },
    {
      "cell_type": "markdown",
      "source": [
        "**Dictionary**\n",
        "\n",
        "1. It is used to store values in a key :value pair.\n",
        "\n",
        "2. It is ordered,changeable, and doesn't allow duplicate values.\n",
        "\n",
        "3. It is denoted by {}."
      ],
      "metadata": {
        "id": "OjKsJuPFRiWZ"
      }
    },
    {
      "cell_type": "code",
      "source": [
        "cars = {\n",
        "    \"Model\":\"Mercedes Benz\",\n",
        "    \"Year\":2024,\n",
        "    \"Color\":\"Black\"\n",
        "}\n",
        "print(cars)"
      ],
      "metadata": {
        "colab": {
          "base_uri": "https://localhost:8080/"
        },
        "id": "NNMYtu9iQZku",
        "outputId": "5ed5f55e-0386-4637-d120-0dcc69de2373"
      },
      "execution_count": null,
      "outputs": [
        {
          "output_type": "stream",
          "name": "stdout",
          "text": [
            "{'Model': 'Mercedes Benz', 'Year': 2024, 'Color': 'Black'}\n"
          ]
        }
      ]
    },
    {
      "cell_type": "code",
      "source": [
        "print(cars[\"Year\"])"
      ],
      "metadata": {
        "colab": {
          "base_uri": "https://localhost:8080/"
        },
        "id": "TA2iWpdcSpwn",
        "outputId": "bac30023-6b2b-4873-af91-f886a38c21ef"
      },
      "execution_count": null,
      "outputs": [
        {
          "output_type": "stream",
          "name": "stdout",
          "text": [
            "2024\n"
          ]
        }
      ]
    },
    {
      "cell_type": "code",
      "source": [
        "cars.keys()"
      ],
      "metadata": {
        "colab": {
          "base_uri": "https://localhost:8080/"
        },
        "id": "dmNy43aXS77a",
        "outputId": "22735c50-089b-4dbd-81aa-5cd2a501a390"
      },
      "execution_count": null,
      "outputs": [
        {
          "output_type": "execute_result",
          "data": {
            "text/plain": [
              "dict_keys(['Model', 'Year', 'Color'])"
            ]
          },
          "metadata": {},
          "execution_count": 11
        }
      ]
    },
    {
      "cell_type": "code",
      "source": [
        "cars.values()"
      ],
      "metadata": {
        "colab": {
          "base_uri": "https://localhost:8080/"
        },
        "id": "Q8Dpg2XxTNJC",
        "outputId": "3d019298-9a81-4d6c-cd60-92857c56aaff"
      },
      "execution_count": null,
      "outputs": [
        {
          "output_type": "execute_result",
          "data": {
            "text/plain": [
              "dict_values(['Mercedes Benz', 2024, 'Black'])"
            ]
          },
          "metadata": {},
          "execution_count": 12
        }
      ]
    },
    {
      "cell_type": "code",
      "source": [
        "cars[\"Year\"] = 2022\n",
        "print(cars)"
      ],
      "metadata": {
        "colab": {
          "base_uri": "https://localhost:8080/"
        },
        "id": "8MJWBefFTSZb",
        "outputId": "dc1b3359-80d2-4988-efe1-c6774be5f9da"
      },
      "execution_count": null,
      "outputs": [
        {
          "output_type": "stream",
          "name": "stdout",
          "text": [
            "{'Model': 'Mercedes Benz', 'Year': 2022, 'Color': 'Black'}\n"
          ]
        }
      ]
    },
    {
      "cell_type": "code",
      "source": [
        "cars.update({\"Year\":2020})\n",
        "print(cars)"
      ],
      "metadata": {
        "colab": {
          "base_uri": "https://localhost:8080/"
        },
        "id": "MVytKUp-ThXn",
        "outputId": "b7986eda-811f-4190-a2a6-ee1114b64ac5"
      },
      "execution_count": null,
      "outputs": [
        {
          "output_type": "stream",
          "name": "stdout",
          "text": [
            "{'Model': 'Mercedes Benz', 'Year': 2020, 'Color': 'Black'}\n"
          ]
        }
      ]
    },
    {
      "cell_type": "code",
      "source": [
        "cars['Engine'] = \"Diesel\"\n",
        "print(cars)"
      ],
      "metadata": {
        "colab": {
          "base_uri": "https://localhost:8080/"
        },
        "id": "s9AhPLM0UC-T",
        "outputId": "ef3009ee-69eb-41c8-840e-c01e3f41a32f"
      },
      "execution_count": null,
      "outputs": [
        {
          "output_type": "stream",
          "name": "stdout",
          "text": [
            "{'Model': 'Mercedes Benz', 'Year': 2020, 'Color': 'Black', 'Engine': 'Diesel'}\n"
          ]
        }
      ]
    },
    {
      "cell_type": "code",
      "source": [
        "cars.pop('Model')\n",
        "print(cars)"
      ],
      "metadata": {
        "colab": {
          "base_uri": "https://localhost:8080/"
        },
        "id": "kOwqGgLSUY3C",
        "outputId": "6cf8d38c-b7f7-486a-c092-9ea942e96187"
      },
      "execution_count": null,
      "outputs": [
        {
          "output_type": "stream",
          "name": "stdout",
          "text": [
            "{'Year': 2020, 'Color': 'Black', 'Engine': 'Diesel'}\n"
          ]
        }
      ]
    },
    {
      "cell_type": "code",
      "source": [
        "cars.popitem()\n",
        "print(cars)"
      ],
      "metadata": {
        "colab": {
          "base_uri": "https://localhost:8080/"
        },
        "id": "NRIE1w-MUmtI",
        "outputId": "85160f4b-91b0-4d6d-e0a4-201b2efd907b"
      },
      "execution_count": null,
      "outputs": [
        {
          "output_type": "stream",
          "name": "stdout",
          "text": [
            "{'Year': 2020, 'Color': 'Black'}\n"
          ]
        }
      ]
    },
    {
      "cell_type": "code",
      "source": [
        "cars.clear()\n",
        "print(cars)"
      ],
      "metadata": {
        "colab": {
          "base_uri": "https://localhost:8080/"
        },
        "id": "92qnyIevUvRb",
        "outputId": "3a810f68-0c96-4bf7-9ae9-3718e9b7a72f"
      },
      "execution_count": null,
      "outputs": [
        {
          "output_type": "stream",
          "name": "stdout",
          "text": [
            "{}\n"
          ]
        }
      ]
    },
    {
      "cell_type": "code",
      "source": [
        "print(cars)"
      ],
      "metadata": {
        "colab": {
          "base_uri": "https://localhost:8080/"
        },
        "id": "r261Wg7-WVwb",
        "outputId": "5b114336-732a-402a-a509-23c054cebb54"
      },
      "execution_count": null,
      "outputs": [
        {
          "output_type": "stream",
          "name": "stdout",
          "text": [
            "{'Model': 'Mercedes Benz', 'Year': 2024, 'Color': 'Black'}\n"
          ]
        }
      ]
    },
    {
      "cell_type": "code",
      "source": [
        "del cars\n",
        "print(cars)"
      ],
      "metadata": {
        "colab": {
          "base_uri": "https://localhost:8080/",
          "height": 159
        },
        "id": "VVTSLpr_U09l",
        "outputId": "c513d9c2-25a3-4a1c-ffb3-bd0a1048513a"
      },
      "execution_count": null,
      "outputs": [
        {
          "output_type": "error",
          "ename": "NameError",
          "evalue": "name 'cars' is not defined",
          "traceback": [
            "\u001b[0;31m---------------------------------------------------------------------------\u001b[0m",
            "\u001b[0;31mNameError\u001b[0m                                 Traceback (most recent call last)",
            "\u001b[0;32m<ipython-input-20-a8888668fb8e>\u001b[0m in \u001b[0;36m<cell line: 2>\u001b[0;34m()\u001b[0m\n\u001b[1;32m      1\u001b[0m \u001b[0;32mdel\u001b[0m \u001b[0mcars\u001b[0m\u001b[0;34m\u001b[0m\u001b[0;34m\u001b[0m\u001b[0m\n\u001b[0;32m----> 2\u001b[0;31m \u001b[0mprint\u001b[0m\u001b[0;34m(\u001b[0m\u001b[0mcars\u001b[0m\u001b[0;34m)\u001b[0m\u001b[0;34m\u001b[0m\u001b[0;34m\u001b[0m\u001b[0m\n\u001b[0m",
            "\u001b[0;31mNameError\u001b[0m: name 'cars' is not defined"
          ]
        }
      ]
    },
    {
      "cell_type": "code",
      "source": [
        "print(cars.clear())"
      ],
      "metadata": {
        "colab": {
          "base_uri": "https://localhost:8080/"
        },
        "id": "4G_zFj5FU6ez",
        "outputId": "5ce12b51-2334-4e21-cd5c-dfbf94816df7"
      },
      "execution_count": null,
      "outputs": [
        {
          "output_type": "stream",
          "name": "stdout",
          "text": [
            "None\n"
          ]
        }
      ]
    },
    {
      "cell_type": "code",
      "source": [
        "studentinfo = {\n",
        "    'student1':{\n",
        "        'name':\"Bob\",\n",
        "        'Class':12,\n",
        "        \"RollNo\":75\n",
        "    }\n",
        "}\n",
        "print(studentinfo)"
      ],
      "metadata": {
        "colab": {
          "base_uri": "https://localhost:8080/"
        },
        "id": "eJanjKRmWtAj",
        "outputId": "c8d072f2-c9fe-4f30-db87-4e2da7dc90ad"
      },
      "execution_count": null,
      "outputs": [
        {
          "output_type": "stream",
          "name": "stdout",
          "text": [
            "{'student1': {'name': 'Bob', 'Class': 12, 'RollNo': 75}}\n"
          ]
        }
      ]
    },
    {
      "cell_type": "code",
      "source": [
        "print(studentinfo['student1']['name'])"
      ],
      "metadata": {
        "colab": {
          "base_uri": "https://localhost:8080/"
        },
        "id": "zyyG1EalXGW9",
        "outputId": "4dfaa610-6a2f-4bf6-c591-5778f421edf1"
      },
      "execution_count": null,
      "outputs": [
        {
          "output_type": "stream",
          "name": "stdout",
          "text": [
            "Bob\n"
          ]
        }
      ]
    },
    {
      "cell_type": "code",
      "source": [],
      "metadata": {
        "id": "tvvw5exwXHFq"
      },
      "execution_count": null,
      "outputs": []
    },
    {
      "cell_type": "code",
      "source": [],
      "metadata": {
        "id": "d-aPRuFeXHJg"
      },
      "execution_count": null,
      "outputs": []
    },
    {
      "cell_type": "code",
      "source": [],
      "metadata": {
        "id": "B87TO5yVXHND"
      },
      "execution_count": null,
      "outputs": []
    },
    {
      "cell_type": "markdown",
      "source": [
        "**File Handling**\n",
        "\n",
        "'a': Append\n",
        "\n",
        "'r' : Read\n",
        "\n",
        "'x' : Create\n",
        "\n",
        "'w' = write"
      ],
      "metadata": {
        "id": "Ts9EvJkuWlwW"
      }
    },
    {
      "cell_type": "code",
      "source": [
        "f = open(\"/content/simple (2).txt\")\n"
      ],
      "metadata": {
        "id": "lYrtRNILVlPQ"
      },
      "execution_count": null,
      "outputs": []
    },
    {
      "cell_type": "code",
      "source": [
        "#Read a file\n",
        "f = open(\"/content/simple (2).txt\",'r')\n",
        "print(f.read(10))\n"
      ],
      "metadata": {
        "colab": {
          "base_uri": "https://localhost:8080/"
        },
        "id": "w_HosgUEY-mo",
        "outputId": "0e2764f5-89df-4229-ad7a-9fe0e2db6ad0"
      },
      "execution_count": null,
      "outputs": [
        {
          "output_type": "stream",
          "name": "stdout",
          "text": [
            "Lorem ipsu\n"
          ]
        }
      ]
    },
    {
      "cell_type": "code",
      "source": [],
      "metadata": {
        "id": "d7DStAqSZUdn"
      },
      "execution_count": null,
      "outputs": []
    }
  ]
}